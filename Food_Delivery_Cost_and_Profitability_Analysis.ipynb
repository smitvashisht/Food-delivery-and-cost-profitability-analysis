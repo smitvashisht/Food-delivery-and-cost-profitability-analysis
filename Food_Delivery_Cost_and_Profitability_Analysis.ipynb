{
  "nbformat": 4,
  "nbformat_minor": 0,
  "metadata": {
    "colab": {
      "provenance": [],
      "mount_file_id": "14Z1--7BQNIlYPtjFk6AGJEYqmTt2EHHD",
      "authorship_tag": "ABX9TyP1tGhue3m9XA3EKxn6mgKs",
      "include_colab_link": true
    },
    "kernelspec": {
      "name": "python3",
      "display_name": "Python 3"
    },
    "language_info": {
      "name": "python"
    }
  },
  "cells": [
    {
      "cell_type": "markdown",
      "metadata": {
        "id": "view-in-github",
        "colab_type": "text"
      },
      "source": [
        "<a href=\"https://colab.research.google.com/github/smitvashisht/Food-delivery-and-cost-profitability-analysis/blob/main/Food_Delivery_Cost_and_Profitability_Analysis.ipynb\" target=\"_parent\"><img src=\"https://colab.research.google.com/assets/colab-badge.svg\" alt=\"Open In Colab\"/></a>"
      ]
    },
    {
      "cell_type": "code",
      "execution_count": 47,
      "metadata": {
        "id": "G2U5BlG5xQJJ"
      },
      "outputs": [],
      "source": [
        "import pandas as pd\n",
        "import matplotlib.pyplot as plt\n",
        "import numpy as np"
      ]
    },
    {
      "cell_type": "code",
      "source": [
        "df = pd.read_csv('/content/food_orders_new_delhi.csv')"
      ],
      "metadata": {
        "id": "4bB7z6YpxWTa"
      },
      "execution_count": 48,
      "outputs": []
    },
    {
      "cell_type": "code",
      "source": [
        "df.head(15)"
      ],
      "metadata": {
        "colab": {
          "base_uri": "https://localhost:8080/",
          "height": 797
        },
        "id": "9tCO6jfJzP3o",
        "outputId": "54fe5bc8-c5ce-4e8d-8bcf-9f72d87c4606"
      },
      "execution_count": 50,
      "outputs": [
        {
          "output_type": "execute_result",
          "data": {
            "text/plain": [
              "    Order ID Customer ID Restaurant ID  Order Date and Time  \\\n",
              "0          1       C8270         R2924  2024-02-01 01:11:52   \n",
              "1          2       C1860         R2054  2024-02-02 22:11:04   \n",
              "2          3       C6390         R2870  2024-01-31 05:54:35   \n",
              "3          4       C6191         R2642  2024-01-16 22:52:49   \n",
              "4          5       C6734         R2799  2024-01-29 01:19:30   \n",
              "5          6       C7265         R2777  2024-01-25 04:36:52   \n",
              "6          7       C1466         R2457  2024-01-12 23:55:48   \n",
              "7          8       C5426         R2978  2024-01-26 22:46:24   \n",
              "8          9       C6578         R2877  2024-01-02 18:29:59   \n",
              "9         10       C9322         R2161  2024-01-05 00:50:19   \n",
              "10        11       C2685         R2379  2024-01-01 17:02:47   \n",
              "11        12       C1769         R2992  2024-01-09 17:15:15   \n",
              "12        13       C7949         R2086  2024-01-05 16:43:24   \n",
              "13        14       C3433         R2054  2024-02-04 18:48:54   \n",
              "14        15       C6311         R2475  2024-02-03 00:49:50   \n",
              "\n",
              "   Delivery Date and Time  Order Value  Delivery Fee    Payment Method  \\\n",
              "0     2024-02-01 02:39:52         1914             0       Credit Card   \n",
              "1     2024-02-02 22:46:04          986            40    Digital Wallet   \n",
              "2     2024-01-31 06:52:35          937            30  Cash on Delivery   \n",
              "3     2024-01-16 23:38:49         1463            50  Cash on Delivery   \n",
              "4     2024-01-29 02:48:30         1992            30  Cash on Delivery   \n",
              "5     2024-01-25 05:27:52          439            20  Cash on Delivery   \n",
              "6     2024-01-13 00:48:48          303            30    Digital Wallet   \n",
              "7     2024-01-27 00:36:24          260             0       Credit Card   \n",
              "8     2024-01-02 20:23:59         1663            40  Cash on Delivery   \n",
              "9     2024-01-05 02:10:19          491            40    Digital Wallet   \n",
              "10    2024-01-01 18:21:47          868             0  Cash on Delivery   \n",
              "11    2024-01-09 17:55:15         1800            20       Credit Card   \n",
              "12    2024-01-05 18:08:24          674             0  Cash on Delivery   \n",
              "13    2024-02-04 20:28:54          633            30    Digital Wallet   \n",
              "14    2024-02-03 02:00:50         1193             0       Credit Card   \n",
              "\n",
              "   Discounts and Offers  Commission Fee  Payment Processing Fee  \\\n",
              "0             5% on App             150                      47   \n",
              "1                   10%             198                      23   \n",
              "2          15% New User             195                      45   \n",
              "3                   NaN             146                      27   \n",
              "4          50 off Promo             130                      50   \n",
              "5                   10%              92                      27   \n",
              "6             5% on App             144                      12   \n",
              "7                   10%              55                      19   \n",
              "8             5% on App             116                      48   \n",
              "9                   10%             189                      10   \n",
              "10            5% on App             149                      36   \n",
              "11         15% New User              61                      36   \n",
              "12                  NaN             115                      20   \n",
              "13         15% New User              51                      14   \n",
              "14                  NaN             192                      16   \n",
              "\n",
              "    Refunds/Chargebacks  \n",
              "0                     0  \n",
              "1                     0  \n",
              "2                     0  \n",
              "3                     0  \n",
              "4                     0  \n",
              "5                   150  \n",
              "6                    50  \n",
              "7                     0  \n",
              "8                     0  \n",
              "9                     0  \n",
              "10                    0  \n",
              "11                    0  \n",
              "12                    0  \n",
              "13                   50  \n",
              "14                    0  "
            ],
            "text/html": [
              "\n",
              "  <div id=\"df-5693a217-4f66-4306-8206-2970283f46a2\" class=\"colab-df-container\">\n",
              "    <div>\n",
              "<style scoped>\n",
              "    .dataframe tbody tr th:only-of-type {\n",
              "        vertical-align: middle;\n",
              "    }\n",
              "\n",
              "    .dataframe tbody tr th {\n",
              "        vertical-align: top;\n",
              "    }\n",
              "\n",
              "    .dataframe thead th {\n",
              "        text-align: right;\n",
              "    }\n",
              "</style>\n",
              "<table border=\"1\" class=\"dataframe\">\n",
              "  <thead>\n",
              "    <tr style=\"text-align: right;\">\n",
              "      <th></th>\n",
              "      <th>Order ID</th>\n",
              "      <th>Customer ID</th>\n",
              "      <th>Restaurant ID</th>\n",
              "      <th>Order Date and Time</th>\n",
              "      <th>Delivery Date and Time</th>\n",
              "      <th>Order Value</th>\n",
              "      <th>Delivery Fee</th>\n",
              "      <th>Payment Method</th>\n",
              "      <th>Discounts and Offers</th>\n",
              "      <th>Commission Fee</th>\n",
              "      <th>Payment Processing Fee</th>\n",
              "      <th>Refunds/Chargebacks</th>\n",
              "    </tr>\n",
              "  </thead>\n",
              "  <tbody>\n",
              "    <tr>\n",
              "      <th>0</th>\n",
              "      <td>1</td>\n",
              "      <td>C8270</td>\n",
              "      <td>R2924</td>\n",
              "      <td>2024-02-01 01:11:52</td>\n",
              "      <td>2024-02-01 02:39:52</td>\n",
              "      <td>1914</td>\n",
              "      <td>0</td>\n",
              "      <td>Credit Card</td>\n",
              "      <td>5% on App</td>\n",
              "      <td>150</td>\n",
              "      <td>47</td>\n",
              "      <td>0</td>\n",
              "    </tr>\n",
              "    <tr>\n",
              "      <th>1</th>\n",
              "      <td>2</td>\n",
              "      <td>C1860</td>\n",
              "      <td>R2054</td>\n",
              "      <td>2024-02-02 22:11:04</td>\n",
              "      <td>2024-02-02 22:46:04</td>\n",
              "      <td>986</td>\n",
              "      <td>40</td>\n",
              "      <td>Digital Wallet</td>\n",
              "      <td>10%</td>\n",
              "      <td>198</td>\n",
              "      <td>23</td>\n",
              "      <td>0</td>\n",
              "    </tr>\n",
              "    <tr>\n",
              "      <th>2</th>\n",
              "      <td>3</td>\n",
              "      <td>C6390</td>\n",
              "      <td>R2870</td>\n",
              "      <td>2024-01-31 05:54:35</td>\n",
              "      <td>2024-01-31 06:52:35</td>\n",
              "      <td>937</td>\n",
              "      <td>30</td>\n",
              "      <td>Cash on Delivery</td>\n",
              "      <td>15% New User</td>\n",
              "      <td>195</td>\n",
              "      <td>45</td>\n",
              "      <td>0</td>\n",
              "    </tr>\n",
              "    <tr>\n",
              "      <th>3</th>\n",
              "      <td>4</td>\n",
              "      <td>C6191</td>\n",
              "      <td>R2642</td>\n",
              "      <td>2024-01-16 22:52:49</td>\n",
              "      <td>2024-01-16 23:38:49</td>\n",
              "      <td>1463</td>\n",
              "      <td>50</td>\n",
              "      <td>Cash on Delivery</td>\n",
              "      <td>NaN</td>\n",
              "      <td>146</td>\n",
              "      <td>27</td>\n",
              "      <td>0</td>\n",
              "    </tr>\n",
              "    <tr>\n",
              "      <th>4</th>\n",
              "      <td>5</td>\n",
              "      <td>C6734</td>\n",
              "      <td>R2799</td>\n",
              "      <td>2024-01-29 01:19:30</td>\n",
              "      <td>2024-01-29 02:48:30</td>\n",
              "      <td>1992</td>\n",
              "      <td>30</td>\n",
              "      <td>Cash on Delivery</td>\n",
              "      <td>50 off Promo</td>\n",
              "      <td>130</td>\n",
              "      <td>50</td>\n",
              "      <td>0</td>\n",
              "    </tr>\n",
              "    <tr>\n",
              "      <th>5</th>\n",
              "      <td>6</td>\n",
              "      <td>C7265</td>\n",
              "      <td>R2777</td>\n",
              "      <td>2024-01-25 04:36:52</td>\n",
              "      <td>2024-01-25 05:27:52</td>\n",
              "      <td>439</td>\n",
              "      <td>20</td>\n",
              "      <td>Cash on Delivery</td>\n",
              "      <td>10%</td>\n",
              "      <td>92</td>\n",
              "      <td>27</td>\n",
              "      <td>150</td>\n",
              "    </tr>\n",
              "    <tr>\n",
              "      <th>6</th>\n",
              "      <td>7</td>\n",
              "      <td>C1466</td>\n",
              "      <td>R2457</td>\n",
              "      <td>2024-01-12 23:55:48</td>\n",
              "      <td>2024-01-13 00:48:48</td>\n",
              "      <td>303</td>\n",
              "      <td>30</td>\n",
              "      <td>Digital Wallet</td>\n",
              "      <td>5% on App</td>\n",
              "      <td>144</td>\n",
              "      <td>12</td>\n",
              "      <td>50</td>\n",
              "    </tr>\n",
              "    <tr>\n",
              "      <th>7</th>\n",
              "      <td>8</td>\n",
              "      <td>C5426</td>\n",
              "      <td>R2978</td>\n",
              "      <td>2024-01-26 22:46:24</td>\n",
              "      <td>2024-01-27 00:36:24</td>\n",
              "      <td>260</td>\n",
              "      <td>0</td>\n",
              "      <td>Credit Card</td>\n",
              "      <td>10%</td>\n",
              "      <td>55</td>\n",
              "      <td>19</td>\n",
              "      <td>0</td>\n",
              "    </tr>\n",
              "    <tr>\n",
              "      <th>8</th>\n",
              "      <td>9</td>\n",
              "      <td>C6578</td>\n",
              "      <td>R2877</td>\n",
              "      <td>2024-01-02 18:29:59</td>\n",
              "      <td>2024-01-02 20:23:59</td>\n",
              "      <td>1663</td>\n",
              "      <td>40</td>\n",
              "      <td>Cash on Delivery</td>\n",
              "      <td>5% on App</td>\n",
              "      <td>116</td>\n",
              "      <td>48</td>\n",
              "      <td>0</td>\n",
              "    </tr>\n",
              "    <tr>\n",
              "      <th>9</th>\n",
              "      <td>10</td>\n",
              "      <td>C9322</td>\n",
              "      <td>R2161</td>\n",
              "      <td>2024-01-05 00:50:19</td>\n",
              "      <td>2024-01-05 02:10:19</td>\n",
              "      <td>491</td>\n",
              "      <td>40</td>\n",
              "      <td>Digital Wallet</td>\n",
              "      <td>10%</td>\n",
              "      <td>189</td>\n",
              "      <td>10</td>\n",
              "      <td>0</td>\n",
              "    </tr>\n",
              "    <tr>\n",
              "      <th>10</th>\n",
              "      <td>11</td>\n",
              "      <td>C2685</td>\n",
              "      <td>R2379</td>\n",
              "      <td>2024-01-01 17:02:47</td>\n",
              "      <td>2024-01-01 18:21:47</td>\n",
              "      <td>868</td>\n",
              "      <td>0</td>\n",
              "      <td>Cash on Delivery</td>\n",
              "      <td>5% on App</td>\n",
              "      <td>149</td>\n",
              "      <td>36</td>\n",
              "      <td>0</td>\n",
              "    </tr>\n",
              "    <tr>\n",
              "      <th>11</th>\n",
              "      <td>12</td>\n",
              "      <td>C1769</td>\n",
              "      <td>R2992</td>\n",
              "      <td>2024-01-09 17:15:15</td>\n",
              "      <td>2024-01-09 17:55:15</td>\n",
              "      <td>1800</td>\n",
              "      <td>20</td>\n",
              "      <td>Credit Card</td>\n",
              "      <td>15% New User</td>\n",
              "      <td>61</td>\n",
              "      <td>36</td>\n",
              "      <td>0</td>\n",
              "    </tr>\n",
              "    <tr>\n",
              "      <th>12</th>\n",
              "      <td>13</td>\n",
              "      <td>C7949</td>\n",
              "      <td>R2086</td>\n",
              "      <td>2024-01-05 16:43:24</td>\n",
              "      <td>2024-01-05 18:08:24</td>\n",
              "      <td>674</td>\n",
              "      <td>0</td>\n",
              "      <td>Cash on Delivery</td>\n",
              "      <td>NaN</td>\n",
              "      <td>115</td>\n",
              "      <td>20</td>\n",
              "      <td>0</td>\n",
              "    </tr>\n",
              "    <tr>\n",
              "      <th>13</th>\n",
              "      <td>14</td>\n",
              "      <td>C3433</td>\n",
              "      <td>R2054</td>\n",
              "      <td>2024-02-04 18:48:54</td>\n",
              "      <td>2024-02-04 20:28:54</td>\n",
              "      <td>633</td>\n",
              "      <td>30</td>\n",
              "      <td>Digital Wallet</td>\n",
              "      <td>15% New User</td>\n",
              "      <td>51</td>\n",
              "      <td>14</td>\n",
              "      <td>50</td>\n",
              "    </tr>\n",
              "    <tr>\n",
              "      <th>14</th>\n",
              "      <td>15</td>\n",
              "      <td>C6311</td>\n",
              "      <td>R2475</td>\n",
              "      <td>2024-02-03 00:49:50</td>\n",
              "      <td>2024-02-03 02:00:50</td>\n",
              "      <td>1193</td>\n",
              "      <td>0</td>\n",
              "      <td>Credit Card</td>\n",
              "      <td>NaN</td>\n",
              "      <td>192</td>\n",
              "      <td>16</td>\n",
              "      <td>0</td>\n",
              "    </tr>\n",
              "  </tbody>\n",
              "</table>\n",
              "</div>\n",
              "    <div class=\"colab-df-buttons\">\n",
              "\n",
              "  <div class=\"colab-df-container\">\n",
              "    <button class=\"colab-df-convert\" onclick=\"convertToInteractive('df-5693a217-4f66-4306-8206-2970283f46a2')\"\n",
              "            title=\"Convert this dataframe to an interactive table.\"\n",
              "            style=\"display:none;\">\n",
              "\n",
              "  <svg xmlns=\"http://www.w3.org/2000/svg\" height=\"24px\" viewBox=\"0 -960 960 960\">\n",
              "    <path d=\"M120-120v-720h720v720H120Zm60-500h600v-160H180v160Zm220 220h160v-160H400v160Zm0 220h160v-160H400v160ZM180-400h160v-160H180v160Zm440 0h160v-160H620v160ZM180-180h160v-160H180v160Zm440 0h160v-160H620v160Z\"/>\n",
              "  </svg>\n",
              "    </button>\n",
              "\n",
              "  <style>\n",
              "    .colab-df-container {\n",
              "      display:flex;\n",
              "      gap: 12px;\n",
              "    }\n",
              "\n",
              "    .colab-df-convert {\n",
              "      background-color: #E8F0FE;\n",
              "      border: none;\n",
              "      border-radius: 50%;\n",
              "      cursor: pointer;\n",
              "      display: none;\n",
              "      fill: #1967D2;\n",
              "      height: 32px;\n",
              "      padding: 0 0 0 0;\n",
              "      width: 32px;\n",
              "    }\n",
              "\n",
              "    .colab-df-convert:hover {\n",
              "      background-color: #E2EBFA;\n",
              "      box-shadow: 0px 1px 2px rgba(60, 64, 67, 0.3), 0px 1px 3px 1px rgba(60, 64, 67, 0.15);\n",
              "      fill: #174EA6;\n",
              "    }\n",
              "\n",
              "    .colab-df-buttons div {\n",
              "      margin-bottom: 4px;\n",
              "    }\n",
              "\n",
              "    [theme=dark] .colab-df-convert {\n",
              "      background-color: #3B4455;\n",
              "      fill: #D2E3FC;\n",
              "    }\n",
              "\n",
              "    [theme=dark] .colab-df-convert:hover {\n",
              "      background-color: #434B5C;\n",
              "      box-shadow: 0px 1px 3px 1px rgba(0, 0, 0, 0.15);\n",
              "      filter: drop-shadow(0px 1px 2px rgba(0, 0, 0, 0.3));\n",
              "      fill: #FFFFFF;\n",
              "    }\n",
              "  </style>\n",
              "\n",
              "    <script>\n",
              "      const buttonEl =\n",
              "        document.querySelector('#df-5693a217-4f66-4306-8206-2970283f46a2 button.colab-df-convert');\n",
              "      buttonEl.style.display =\n",
              "        google.colab.kernel.accessAllowed ? 'block' : 'none';\n",
              "\n",
              "      async function convertToInteractive(key) {\n",
              "        const element = document.querySelector('#df-5693a217-4f66-4306-8206-2970283f46a2');\n",
              "        const dataTable =\n",
              "          await google.colab.kernel.invokeFunction('convertToInteractive',\n",
              "                                                    [key], {});\n",
              "        if (!dataTable) return;\n",
              "\n",
              "        const docLinkHtml = 'Like what you see? Visit the ' +\n",
              "          '<a target=\"_blank\" href=https://colab.research.google.com/notebooks/data_table.ipynb>data table notebook</a>'\n",
              "          + ' to learn more about interactive tables.';\n",
              "        element.innerHTML = '';\n",
              "        dataTable['output_type'] = 'display_data';\n",
              "        await google.colab.output.renderOutput(dataTable, element);\n",
              "        const docLink = document.createElement('div');\n",
              "        docLink.innerHTML = docLinkHtml;\n",
              "        element.appendChild(docLink);\n",
              "      }\n",
              "    </script>\n",
              "  </div>\n",
              "\n",
              "\n",
              "<div id=\"df-97b83902-e893-4924-9f46-b8a166ccc6d1\">\n",
              "  <button class=\"colab-df-quickchart\" onclick=\"quickchart('df-97b83902-e893-4924-9f46-b8a166ccc6d1')\"\n",
              "            title=\"Suggest charts\"\n",
              "            style=\"display:none;\">\n",
              "\n",
              "<svg xmlns=\"http://www.w3.org/2000/svg\" height=\"24px\"viewBox=\"0 0 24 24\"\n",
              "     width=\"24px\">\n",
              "    <g>\n",
              "        <path d=\"M19 3H5c-1.1 0-2 .9-2 2v14c0 1.1.9 2 2 2h14c1.1 0 2-.9 2-2V5c0-1.1-.9-2-2-2zM9 17H7v-7h2v7zm4 0h-2V7h2v10zm4 0h-2v-4h2v4z\"/>\n",
              "    </g>\n",
              "</svg>\n",
              "  </button>\n",
              "\n",
              "<style>\n",
              "  .colab-df-quickchart {\n",
              "      --bg-color: #E8F0FE;\n",
              "      --fill-color: #1967D2;\n",
              "      --hover-bg-color: #E2EBFA;\n",
              "      --hover-fill-color: #174EA6;\n",
              "      --disabled-fill-color: #AAA;\n",
              "      --disabled-bg-color: #DDD;\n",
              "  }\n",
              "\n",
              "  [theme=dark] .colab-df-quickchart {\n",
              "      --bg-color: #3B4455;\n",
              "      --fill-color: #D2E3FC;\n",
              "      --hover-bg-color: #434B5C;\n",
              "      --hover-fill-color: #FFFFFF;\n",
              "      --disabled-bg-color: #3B4455;\n",
              "      --disabled-fill-color: #666;\n",
              "  }\n",
              "\n",
              "  .colab-df-quickchart {\n",
              "    background-color: var(--bg-color);\n",
              "    border: none;\n",
              "    border-radius: 50%;\n",
              "    cursor: pointer;\n",
              "    display: none;\n",
              "    fill: var(--fill-color);\n",
              "    height: 32px;\n",
              "    padding: 0;\n",
              "    width: 32px;\n",
              "  }\n",
              "\n",
              "  .colab-df-quickchart:hover {\n",
              "    background-color: var(--hover-bg-color);\n",
              "    box-shadow: 0 1px 2px rgba(60, 64, 67, 0.3), 0 1px 3px 1px rgba(60, 64, 67, 0.15);\n",
              "    fill: var(--button-hover-fill-color);\n",
              "  }\n",
              "\n",
              "  .colab-df-quickchart-complete:disabled,\n",
              "  .colab-df-quickchart-complete:disabled:hover {\n",
              "    background-color: var(--disabled-bg-color);\n",
              "    fill: var(--disabled-fill-color);\n",
              "    box-shadow: none;\n",
              "  }\n",
              "\n",
              "  .colab-df-spinner {\n",
              "    border: 2px solid var(--fill-color);\n",
              "    border-color: transparent;\n",
              "    border-bottom-color: var(--fill-color);\n",
              "    animation:\n",
              "      spin 1s steps(1) infinite;\n",
              "  }\n",
              "\n",
              "  @keyframes spin {\n",
              "    0% {\n",
              "      border-color: transparent;\n",
              "      border-bottom-color: var(--fill-color);\n",
              "      border-left-color: var(--fill-color);\n",
              "    }\n",
              "    20% {\n",
              "      border-color: transparent;\n",
              "      border-left-color: var(--fill-color);\n",
              "      border-top-color: var(--fill-color);\n",
              "    }\n",
              "    30% {\n",
              "      border-color: transparent;\n",
              "      border-left-color: var(--fill-color);\n",
              "      border-top-color: var(--fill-color);\n",
              "      border-right-color: var(--fill-color);\n",
              "    }\n",
              "    40% {\n",
              "      border-color: transparent;\n",
              "      border-right-color: var(--fill-color);\n",
              "      border-top-color: var(--fill-color);\n",
              "    }\n",
              "    60% {\n",
              "      border-color: transparent;\n",
              "      border-right-color: var(--fill-color);\n",
              "    }\n",
              "    80% {\n",
              "      border-color: transparent;\n",
              "      border-right-color: var(--fill-color);\n",
              "      border-bottom-color: var(--fill-color);\n",
              "    }\n",
              "    90% {\n",
              "      border-color: transparent;\n",
              "      border-bottom-color: var(--fill-color);\n",
              "    }\n",
              "  }\n",
              "</style>\n",
              "\n",
              "  <script>\n",
              "    async function quickchart(key) {\n",
              "      const quickchartButtonEl =\n",
              "        document.querySelector('#' + key + ' button');\n",
              "      quickchartButtonEl.disabled = true;  // To prevent multiple clicks.\n",
              "      quickchartButtonEl.classList.add('colab-df-spinner');\n",
              "      try {\n",
              "        const charts = await google.colab.kernel.invokeFunction(\n",
              "            'suggestCharts', [key], {});\n",
              "      } catch (error) {\n",
              "        console.error('Error during call to suggestCharts:', error);\n",
              "      }\n",
              "      quickchartButtonEl.classList.remove('colab-df-spinner');\n",
              "      quickchartButtonEl.classList.add('colab-df-quickchart-complete');\n",
              "    }\n",
              "    (() => {\n",
              "      let quickchartButtonEl =\n",
              "        document.querySelector('#df-97b83902-e893-4924-9f46-b8a166ccc6d1 button');\n",
              "      quickchartButtonEl.style.display =\n",
              "        google.colab.kernel.accessAllowed ? 'block' : 'none';\n",
              "    })();\n",
              "  </script>\n",
              "</div>\n",
              "\n",
              "    </div>\n",
              "  </div>\n"
            ],
            "application/vnd.google.colaboratory.intrinsic+json": {
              "type": "dataframe",
              "variable_name": "df",
              "summary": "{\n  \"name\": \"df\",\n  \"rows\": 1000,\n  \"fields\": [\n    {\n      \"column\": \"Order ID\",\n      \"properties\": {\n        \"dtype\": \"number\",\n        \"std\": 288,\n        \"min\": 1,\n        \"max\": 1000,\n        \"num_unique_values\": 1000,\n        \"samples\": [\n          522,\n          738,\n          741\n        ],\n        \"semantic_type\": \"\",\n        \"description\": \"\"\n      }\n    },\n    {\n      \"column\": \"Customer ID\",\n      \"properties\": {\n        \"dtype\": \"string\",\n        \"num_unique_values\": 947,\n        \"samples\": [\n          \"C2633\",\n          \"C9914\",\n          \"C2306\"\n        ],\n        \"semantic_type\": \"\",\n        \"description\": \"\"\n      }\n    },\n    {\n      \"column\": \"Restaurant ID\",\n      \"properties\": {\n        \"dtype\": \"string\",\n        \"num_unique_values\": 621,\n        \"samples\": [\n          \"R2181\",\n          \"R2351\",\n          \"R2531\"\n        ],\n        \"semantic_type\": \"\",\n        \"description\": \"\"\n      }\n    },\n    {\n      \"column\": \"Order Date and Time\",\n      \"properties\": {\n        \"dtype\": \"object\",\n        \"num_unique_values\": 1000,\n        \"samples\": [\n          \"2024-01-25 06:23:14\",\n          \"2024-01-21 06:19:00\",\n          \"2024-01-11 05:57:01\"\n        ],\n        \"semantic_type\": \"\",\n        \"description\": \"\"\n      }\n    },\n    {\n      \"column\": \"Delivery Date and Time\",\n      \"properties\": {\n        \"dtype\": \"object\",\n        \"num_unique_values\": 1000,\n        \"samples\": [\n          \"2024-01-25 07:20:14\",\n          \"2024-01-21 07:59:00\",\n          \"2024-01-11 06:52:01\"\n        ],\n        \"semantic_type\": \"\",\n        \"description\": \"\"\n      }\n    },\n    {\n      \"column\": \"Order Value\",\n      \"properties\": {\n        \"dtype\": \"number\",\n        \"std\": 530,\n        \"min\": 104,\n        \"max\": 1995,\n        \"num_unique_values\": 769,\n        \"samples\": [\n          1945,\n          1648,\n          1572\n        ],\n        \"semantic_type\": \"\",\n        \"description\": \"\"\n      }\n    },\n    {\n      \"column\": \"Delivery Fee\",\n      \"properties\": {\n        \"dtype\": \"number\",\n        \"std\": 16,\n        \"min\": 0,\n        \"max\": 50,\n        \"num_unique_values\": 5,\n        \"samples\": [\n          40,\n          20,\n          30\n        ],\n        \"semantic_type\": \"\",\n        \"description\": \"\"\n      }\n    },\n    {\n      \"column\": \"Payment Method\",\n      \"properties\": {\n        \"dtype\": \"category\",\n        \"num_unique_values\": 3,\n        \"samples\": [\n          \"Credit Card\",\n          \"Digital Wallet\",\n          \"Cash on Delivery\"\n        ],\n        \"semantic_type\": \"\",\n        \"description\": \"\"\n      }\n    },\n    {\n      \"column\": \"Discounts and Offers\",\n      \"properties\": {\n        \"dtype\": \"category\",\n        \"num_unique_values\": 4,\n        \"samples\": [\n          \"10%\",\n          \"50 off Promo\",\n          \"5% on App\"\n        ],\n        \"semantic_type\": \"\",\n        \"description\": \"\"\n      }\n    },\n    {\n      \"column\": \"Commission Fee\",\n      \"properties\": {\n        \"dtype\": \"number\",\n        \"std\": 43,\n        \"min\": 50,\n        \"max\": 200,\n        \"num_unique_values\": 151,\n        \"samples\": [\n          123,\n          119,\n          103\n        ],\n        \"semantic_type\": \"\",\n        \"description\": \"\"\n      }\n    },\n    {\n      \"column\": \"Payment Processing Fee\",\n      \"properties\": {\n        \"dtype\": \"number\",\n        \"std\": 11,\n        \"min\": 10,\n        \"max\": 50,\n        \"num_unique_values\": 41,\n        \"samples\": [\n          32,\n          28,\n          10\n        ],\n        \"semantic_type\": \"\",\n        \"description\": \"\"\n      }\n    },\n    {\n      \"column\": \"Refunds/Chargebacks\",\n      \"properties\": {\n        \"dtype\": \"number\",\n        \"std\": 49,\n        \"min\": 0,\n        \"max\": 150,\n        \"num_unique_values\": 4,\n        \"samples\": [\n          150,\n          100,\n          0\n        ],\n        \"semantic_type\": \"\",\n        \"description\": \"\"\n      }\n    }\n  ]\n}"
            }
          },
          "metadata": {},
          "execution_count": 50
        }
      ]
    },
    {
      "cell_type": "code",
      "source": [
        "print(df.info())"
      ],
      "metadata": {
        "colab": {
          "base_uri": "https://localhost:8080/"
        },
        "id": "akG5u8DMzctx",
        "outputId": "896be15e-05a4-420b-a07d-e59a6a1b9844"
      },
      "execution_count": 51,
      "outputs": [
        {
          "output_type": "stream",
          "name": "stdout",
          "text": [
            "<class 'pandas.core.frame.DataFrame'>\n",
            "RangeIndex: 1000 entries, 0 to 999\n",
            "Data columns (total 12 columns):\n",
            " #   Column                  Non-Null Count  Dtype \n",
            "---  ------                  --------------  ----- \n",
            " 0   Order ID                1000 non-null   int64 \n",
            " 1   Customer ID             1000 non-null   object\n",
            " 2   Restaurant ID           1000 non-null   object\n",
            " 3   Order Date and Time     1000 non-null   object\n",
            " 4   Delivery Date and Time  1000 non-null   object\n",
            " 5   Order Value             1000 non-null   int64 \n",
            " 6   Delivery Fee            1000 non-null   int64 \n",
            " 7   Payment Method          1000 non-null   object\n",
            " 8   Discounts and Offers    815 non-null    object\n",
            " 9   Commission Fee          1000 non-null   int64 \n",
            " 10  Payment Processing Fee  1000 non-null   int64 \n",
            " 11  Refunds/Chargebacks     1000 non-null   int64 \n",
            "dtypes: int64(6), object(6)\n",
            "memory usage: 93.9+ KB\n",
            "None\n"
          ]
        }
      ]
    },
    {
      "cell_type": "code",
      "source": [
        "from datetime import datetime"
      ],
      "metadata": {
        "id": "B_HaOlRSAyN0"
      },
      "execution_count": 52,
      "outputs": []
    },
    {
      "cell_type": "code",
      "source": [
        "df['Order Date and Time'] = pd.to_datetime(df['Order Date and Time'])"
      ],
      "metadata": {
        "id": "yy6kaBoKBMdB"
      },
      "execution_count": 53,
      "outputs": []
    },
    {
      "cell_type": "code",
      "source": [
        "df['Delivery Date and Time'] = pd.to_datetime(df['Delivery Date and Time'])"
      ],
      "metadata": {
        "id": "_70zfKldBWI6"
      },
      "execution_count": 54,
      "outputs": []
    },
    {
      "cell_type": "code",
      "source": [
        "def extract_discount(discount_str):\n",
        "    try:\n",
        "        if 'off' in discount_str:\n",
        "            return int(discount_str.split(' ')[0])\n",
        "        elif '%' in discount_str:\n",
        "            return int(discount_str.split('%')[0])\n",
        "        else:\n",
        "            return 0.0\n",
        "    except TypeError:  # Handle the case where discount_str is not a string\n",
        "        return 0.0\n",
        "\n",
        "df['Discount Percentage'] = df['Discounts and Offers'].apply(lambda x: extract_discount(x))"
      ],
      "metadata": {
        "id": "vYJShWPwBdkM"
      },
      "execution_count": 55,
      "outputs": []
    },
    {
      "cell_type": "code",
      "source": [
        "df['Discount Amount'] = df.apply(lambda x: (x['Order Value'] * x['Discount Percentage'] / 100)\n",
        "                                                if x['Discount Percentage'] > 1\n",
        "                                                  else x['Discount Percentage'], axis=1)"
      ],
      "metadata": {
        "id": "06R_Dc9-DFeX"
      },
      "execution_count": 56,
      "outputs": []
    },
    {
      "cell_type": "code",
      "source": [
        "df['Discount Amount'] = df.apply(lambda x: x['Discount Amount'] if x['Discount Percentage'] <= 1\n",
        "                                 else x['Order Value'] * x['Discount Percentage'] / 100, axis=1)\n",
        "\n",
        "print(df[['Order Value' , 'Discounts and Offers' , 'Discount Percentage', 'Discount Amount']].head(), df.dtypes)"
      ],
      "metadata": {
        "colab": {
          "base_uri": "https://localhost:8080/"
        },
        "id": "4NOPtYgOG9xm",
        "outputId": "af6ded08-0e8f-47d3-b523-2fcf071cb14e"
      },
      "execution_count": 57,
      "outputs": [
        {
          "output_type": "stream",
          "name": "stdout",
          "text": [
            "   Order Value Discounts and Offers  Discount Percentage  Discount Amount\n",
            "0         1914            5% on App                  5.0            95.70\n",
            "1          986                  10%                 10.0            98.60\n",
            "2          937         15% New User                 15.0           140.55\n",
            "3         1463                  NaN                  0.0             0.00\n",
            "4         1992         50 off Promo                 50.0           996.00 Order ID                           int64\n",
            "Customer ID                       object\n",
            "Restaurant ID                     object\n",
            "Order Date and Time       datetime64[ns]\n",
            "Delivery Date and Time    datetime64[ns]\n",
            "Order Value                        int64\n",
            "Delivery Fee                       int64\n",
            "Payment Method                    object\n",
            "Discounts and Offers              object\n",
            "Commission Fee                     int64\n",
            "Payment Processing Fee             int64\n",
            "Refunds/Chargebacks                int64\n",
            "Discount Percentage              float64\n",
            "Discount Amount                  float64\n",
            "dtype: object\n"
          ]
        }
      ]
    },
    {
      "cell_type": "code",
      "source": [
        "df['Total Costs'] = df['Delivery Fee'] + df['Payment Processing Fee'] + df['Discount Amount']\n",
        "df['Revenue'] = df['Commission Fee']\n",
        "df['Profit'] = df['Revenue'] - df['Total Costs']\n",
        "\n",
        "\n",
        "TOTAL_ORDERS = df.shape[0]\n",
        "TOTAL_COSTS = df['Total Costs'].sum()\n",
        "TOTAL_REVENUE = df['Revenue'].sum()\n",
        "TOTAL_PROFIT = df['Profit'].sum()"
      ],
      "metadata": {
        "id": "EdcwVbWrJREG"
      },
      "execution_count": 58,
      "outputs": []
    },
    {
      "cell_type": "code",
      "source": [
        "print(\"Total Orders:\", TOTAL_ORDERS)\n",
        "print(\"Total Costs:\", TOTAL_COSTS)\n",
        "print(\"Total Revenue:\", TOTAL_REVENUE)\n",
        "print(\"Total Profit:\", TOTAL_PROFIT)"
      ],
      "metadata": {
        "colab": {
          "base_uri": "https://localhost:8080/"
        },
        "id": "_0ern9fmfSYD",
        "outputId": "c3c9e485-1217-4bf7-c68e-e43749745077"
      },
      "execution_count": 59,
      "outputs": [
        {
          "output_type": "stream",
          "name": "stdout",
          "text": [
            "Total Orders: 1000\n",
            "Total Costs: 232709.85\n",
            "Total Revenue: 126990\n",
            "Total Profit: -105719.85\n"
          ]
        }
      ]
    },
    {
      "cell_type": "code",
      "source": [
        "import matplotlib.pyplot as plt\n",
        "\n",
        "plt.figure(figsize=(10, 6))\n",
        "plt.hist(df['Profit'], bins=50, color='skyblue', edgecolor='black')\n",
        "plt.xlabel('Profit')\n",
        "plt.ylabel('Number of Orders')\n",
        "plt.title('Histogram of Profit')\n",
        "plt.show()"
      ],
      "metadata": {
        "colab": {
          "base_uri": "https://localhost:8080/",
          "height": 564
        },
        "id": "Yc0qI06FhEkh",
        "outputId": "5dec7e97-4ef8-4562-9681-fc535d81e1d1"
      },
      "execution_count": 60,
      "outputs": [
        {
          "output_type": "display_data",
          "data": {
            "text/plain": [
              "<Figure size 1000x600 with 1 Axes>"
            ],
            "image/png": "[encoded data removed]"
          },
          "metadata": {}
        }
      ]
    },
    {
      "cell_type": "code",
      "source": [
        "cost_breakdown = df[['Delivery Fee', 'Payment Processing Fee', 'Discount Amount']].sum()\n",
        "plt.figure(figsize=(10, 6))\n",
        "plt.pie(cost_breakdown, labels=cost_breakdown.index, autopct='%1.1f%%', startangle=140)\n",
        "plt.title('Cost Breakdown')\n",
        "plt.show()"
      ],
      "metadata": {
        "colab": {
          "base_uri": "https://localhost:8080/",
          "height": 521
        },
        "id": "jr0nZ74yhxBO",
        "outputId": "71b26d68-5b4b-4d47-fdde-4ef17b241a5c"
      },
      "execution_count": 61,
      "outputs": [
        {
          "output_type": "display_data",
          "data": {
            "text/plain": [
              "<Figure size 1000x600 with 1 Axes>"
            ],
            "image/png": "[encoded data removed]"
          },
          "metadata": {}
        }
      ]
    },
    {
      "cell_type": "code",
      "source": [
        "totals = ['Total Costs', 'Total Revenue', 'Total Profit']\n",
        "values = [TOTAL_COSTS, TOTAL_REVENUE, TOTAL_PROFIT]\n",
        "\n",
        "plt.figure(figsize=(8,6))\n",
        "plt.bar(totals, values, color=['green','red','blue'])\n",
        "# plt.xlabel('Totals')\n",
        "# plt.ylabel('Value')\n",
        "# plt.title('Totals')\n",
        "plt.show()"
      ],
      "metadata": {
        "colab": {
          "base_uri": "https://localhost:8080/",
          "height": 522
        },
        "id": "kJkgaK5rjwJH",
        "outputId": "8baf1c73-dfda-402a-da17-1fd5184f909b"
      },
      "execution_count": 62,
      "outputs": [
        {
          "output_type": "display_data",
          "data": {
            "text/plain": [
              "<Figure size 800x600 with 1 Axes>"
            ],
            "image/png": "[encoded data removed]"
          },
          "metadata": {}
        }
      ]
    },
    {
      "cell_type": "code",
      "source": [],
      "metadata": {
        "id": "5qOqXjwollM4"
      },
      "execution_count": null,
      "outputs": []
    },
    {
      "cell_type": "code",
      "source": [
        "profitable_orders = df[df['Profit'] > 0]\n",
        "\n",
        "\n",
        "# calculate the average commission percentage for profitable orders\n",
        "profitable_orders['Commission Percentage'] = (profitable_orders['Commission Fee'] / profitable_orders['Order Value']) * 100\n",
        "\n",
        "# calculate the average discount percentage for profitable orders\n",
        "profitable_orders['Effective Discount Percentage'] = (profitable_orders['Discount Amount'] / profitable_orders['Order Value']) * 100\n",
        "\n",
        "\n",
        "# calculate the new averages\n",
        "new_avg_commission_percentage = profitable_orders['Commission Percentage'].mean()\n",
        "new_avg_discount_percentage = profitable_orders['Effective Discount Percentage'].mean()\n",
        "\n",
        "print(new_avg_commission_percentage, new_avg_discount_percentage)"
      ],
      "metadata": {
        "colab": {
          "base_uri": "https://localhost:8080/"
        },
        "id": "uZ75eDRnARVF",
        "outputId": "cda0ffc6-56e2-41ee-d382-7a9bb1e6461e"
      },
      "execution_count": 64,
      "outputs": [
        {
          "output_type": "stream",
          "name": "stdout",
          "text": [
            "30.508436145149435 5.867469879518072\n"
          ]
        },
        {
          "output_type": "stream",
          "name": "stderr",
          "text": [
            "<ipython-input-64-d15a5c4947dd>:5: SettingWithCopyWarning: \n",
            "A value is trying to be set on a copy of a slice from a DataFrame.\n",
            "Try using .loc[row_indexer,col_indexer] = value instead\n",
            "\n",
            "See the caveats in the documentation: https://pandas.pydata.org/pandas-docs/stable/user_guide/indexing.html#returning-a-view-versus-a-copy\n",
            "  profitable_orders['Commission Percentage'] = (profitable_orders['Commission Fee'] / profitable_orders['Order Value']) * 100\n",
            "<ipython-input-64-d15a5c4947dd>:8: SettingWithCopyWarning: \n",
            "A value is trying to be set on a copy of a slice from a DataFrame.\n",
            "Try using .loc[row_indexer,col_indexer] = value instead\n",
            "\n",
            "See the caveats in the documentation: https://pandas.pydata.org/pandas-docs/stable/user_guide/indexing.html#returning-a-view-versus-a-copy\n",
            "  profitable_orders['Effective Discount Percentage'] = (profitable_orders['Discount Amount'] / profitable_orders['Order Value']) * 100\n"
          ]
        }
      ]
    },
    {
      "cell_type": "code",
      "source": [
        "recommended_commision_percentage = 30.0\n",
        "recommended_discount_percentage = 6\n",
        "\n",
        "df['Simulated Commision Fee'] = df['Order Value'] * recommended_commision_percentage / 100\n",
        "df['Simulated Discount Amount'] = df['Order Value'] * recommended_discount_percentage / 100\n",
        "\n",
        "df['Simulated Total Cost'] = (df['Simulated Commision Fee'] + df['Simulated Discount Amount'])\n",
        "df['Simulated Profit'] = df['Simulated Commision Fee'] - df['Simulated Total Cost']"
      ],
      "metadata": {
        "id": "TORUYDRtDagp"
      },
      "execution_count": 65,
      "outputs": []
    },
    {
      "cell_type": "code",
      "source": [
        "import seaborn as sns\n",
        "plt.figure(figsize=(14,7))\n",
        "\n",
        "# actual profitability\n",
        "sns.kdeplot(df['Profit'], label='Actual Profitability', fill= True, alpha=0.5, linewidth=2)\n",
        "\n",
        "# simulated profitablity\n",
        "sns.kdeplot(df['Simulated Profit'], label='Simulated Profit with Recommended Rates', fill=True, alpha=0.5, linewidth=2)\n",
        "\n",
        "plt.title('Comparision of Profitability in Food Delivery: Actual Vs. Recommended Discounts and Commisions')\n",
        "plt.xlabel('Profit')\n",
        "plt.ylabel('Density')\n",
        "plt.legend(loc='upper left')\n",
        "plt.show()"
      ],
      "metadata": {
        "colab": {
          "base_uri": "https://localhost:8080/",
          "height": 641
        },
        "id": "DQDCt3EwINFw",
        "outputId": "b199fc5d-958e-4dc6-e5ea-08926d567112"
      },
      "execution_count": 69,
      "outputs": [
        {
          "output_type": "display_data",
          "data": {
            "text/plain": [
              "<Figure size 1400x700 with 1 Axes>"
            ],
            "image/png": "[encoded data removed]"
          },
          "metadata": {}
        }
      ]
    },
    {
      "cell_type": "code",
      "source": [],
      "metadata": {
        "id": "U5lUf0b7I9wE"
      },
      "execution_count": null,
      "outputs": []
    }
  ]
}